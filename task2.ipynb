{
 "cells": [
  {
   "cell_type": "code",
   "execution_count": 1,
   "metadata": {},
   "outputs": [],
   "source": [
    "# libraries\n",
    "\n",
    "import os\n",
    "import numpy as np\n",
    "import pandas as pd\n",
    "import matplotlib.pyplot as plt\n",
    "from PIL import Image\n",
    "from glob import glob\n",
    "\n",
    "import torch\n",
    "import torch.nn as nn\n",
    "import torch.optim as optim\n",
    "from transformers import CLIPProcessor, CLIPModel\n",
    "\n",
    "from sklearn.metrics import confusion_matrix, accuracy_score\n",
    "import seaborn as sns\n",
    "\n",
    "from tqdm import tqdm\n",
    "import random"
   ]
  },
  {
   "cell_type": "markdown",
   "metadata": {},
   "source": [
    "# Task 2: Few-Shot Learning Enhancement\n",
    "\n",
    "### Objective\n",
    "The goal of this task is to improve classification performance by fine-tuning a pre-trained CLIP model on a small subset of the EuroSAT dataset. Unlike zero-shot classification, we will use a limited number of labeled images for each land cover class to enhance model accuracy.\n",
    "\n",
    "The dataset remains the EuroSAT dataset, but for fine-tuning, we will carefully select a small number of images per class. The key steps involve:\n",
    "\n",
    "1. **Data Selection** – Choosing a balanced, small dataset for training.\n",
    "2. **Model Modification** – Implementing **linear probing**, where the CLIP backbone is frozen and only a new classifier head is trained.\n",
    "3. **Training & Evaluation** – Fine-tuning the classifier on the small dataset and evaluating the impact on classification performance.\n",
    "4. **Comparison with Zero-Shot Learning** – Analyzing whether few-shot learning improves accuracy over the original zero-shot setup.\n"
   ]
  },
  {
   "cell_type": "markdown",
   "metadata": {},
   "source": [
    "## 1 - Dataset and Selection of a Small Subset for Few-Shot Learning\n",
    "\n",
    "### Selecting a Small Subset\n",
    "For fine-tuning, we will use a small, balanced subset of the EuroSAT dataset. Instead of using the full dataset, we will randomly sample 10 images per class to simulate a **few-shot learning** scenario. The goal is to test whether training on a small number of images can improve classification performance.\n",
    "\n"
   ]
  },
  {
   "cell_type": "code",
   "execution_count": 2,
   "metadata": {},
   "outputs": [
    {
     "name": "stdout",
     "output_type": "stream",
     "text": [
      "Classes found: ['AnnualCrop', 'Forest', 'HerbaceousVegetation', 'Highway', 'Industrial', 'Pasture', 'PermanentCrop', 'Residential', 'River', 'SeaLake']\n"
     ]
    }
   ],
   "source": [
    "DATASET_PATH = \"2750/\"\n",
    "\n",
    "classes = sorted([cls for cls in os.listdir(DATASET_PATH) if not cls.startswith('.')])\n",
    "\n",
    "print(f\"Classes found: {classes}\")"
   ]
  },
  {
   "cell_type": "code",
   "execution_count": 3,
   "metadata": {},
   "outputs": [],
   "source": [
    "def sample_few_shot_data(dataset_path, classes, num_samples=10):\n",
    "    \"\"\"\n",
    "    Randomly sample a small, balanced dataset for few-shot learning.\n",
    "    \n",
    "    Parameters:\n",
    "        dataset_path (str): Path to the dataset directory.\n",
    "        classes (list): List of class names.\n",
    "        num_samples (int): Number of images per class to sample.\n",
    "    \n",
    "    Returns:\n",
    "        sampled_data (list): List of (image_path, class_name) tuples.\n",
    "    \"\"\"\n",
    "    sampled_data = []\n",
    "    \n",
    "    for cls in classes:\n",
    "        image_paths = glob(os.path.join(dataset_path, cls, \"*.jpg\"))\n",
    "        sampled_images = random.sample(image_paths, num_samples)\n",
    "        sampled_data.extend([(img, cls) for img in sampled_images])\n",
    "    \n",
    "    return sampled_data"
   ]
  },
  {
   "cell_type": "code",
   "execution_count": 4,
   "metadata": {},
   "outputs": [
    {
     "data": {
      "text/html": [
       "<div>\n",
       "<style scoped>\n",
       "    .dataframe tbody tr th:only-of-type {\n",
       "        vertical-align: middle;\n",
       "    }\n",
       "\n",
       "    .dataframe tbody tr th {\n",
       "        vertical-align: top;\n",
       "    }\n",
       "\n",
       "    .dataframe thead th {\n",
       "        text-align: right;\n",
       "    }\n",
       "</style>\n",
       "<table border=\"1\" class=\"dataframe\">\n",
       "  <thead>\n",
       "    <tr style=\"text-align: right;\">\n",
       "      <th></th>\n",
       "      <th>Image Path</th>\n",
       "      <th>Class</th>\n",
       "    </tr>\n",
       "  </thead>\n",
       "  <tbody>\n",
       "    <tr>\n",
       "      <th>0</th>\n",
       "      <td>2750/AnnualCrop\\AnnualCrop_1578.jpg</td>\n",
       "      <td>AnnualCrop</td>\n",
       "    </tr>\n",
       "    <tr>\n",
       "      <th>1</th>\n",
       "      <td>2750/AnnualCrop\\AnnualCrop_1148.jpg</td>\n",
       "      <td>AnnualCrop</td>\n",
       "    </tr>\n",
       "    <tr>\n",
       "      <th>2</th>\n",
       "      <td>2750/AnnualCrop\\AnnualCrop_1.jpg</td>\n",
       "      <td>AnnualCrop</td>\n",
       "    </tr>\n",
       "    <tr>\n",
       "      <th>3</th>\n",
       "      <td>2750/AnnualCrop\\AnnualCrop_335.jpg</td>\n",
       "      <td>AnnualCrop</td>\n",
       "    </tr>\n",
       "    <tr>\n",
       "      <th>4</th>\n",
       "      <td>2750/AnnualCrop\\AnnualCrop_1117.jpg</td>\n",
       "      <td>AnnualCrop</td>\n",
       "    </tr>\n",
       "    <tr>\n",
       "      <th>...</th>\n",
       "      <td>...</td>\n",
       "      <td>...</td>\n",
       "    </tr>\n",
       "    <tr>\n",
       "      <th>95</th>\n",
       "      <td>2750/SeaLake\\SeaLake_914.jpg</td>\n",
       "      <td>SeaLake</td>\n",
       "    </tr>\n",
       "    <tr>\n",
       "      <th>96</th>\n",
       "      <td>2750/SeaLake\\SeaLake_2065.jpg</td>\n",
       "      <td>SeaLake</td>\n",
       "    </tr>\n",
       "    <tr>\n",
       "      <th>97</th>\n",
       "      <td>2750/SeaLake\\SeaLake_2599.jpg</td>\n",
       "      <td>SeaLake</td>\n",
       "    </tr>\n",
       "    <tr>\n",
       "      <th>98</th>\n",
       "      <td>2750/SeaLake\\SeaLake_1104.jpg</td>\n",
       "      <td>SeaLake</td>\n",
       "    </tr>\n",
       "    <tr>\n",
       "      <th>99</th>\n",
       "      <td>2750/SeaLake\\SeaLake_242.jpg</td>\n",
       "      <td>SeaLake</td>\n",
       "    </tr>\n",
       "  </tbody>\n",
       "</table>\n",
       "<p>100 rows × 2 columns</p>\n",
       "</div>"
      ],
      "text/plain": [
       "                             Image Path       Class\n",
       "0   2750/AnnualCrop\\AnnualCrop_1578.jpg  AnnualCrop\n",
       "1   2750/AnnualCrop\\AnnualCrop_1148.jpg  AnnualCrop\n",
       "2      2750/AnnualCrop\\AnnualCrop_1.jpg  AnnualCrop\n",
       "3    2750/AnnualCrop\\AnnualCrop_335.jpg  AnnualCrop\n",
       "4   2750/AnnualCrop\\AnnualCrop_1117.jpg  AnnualCrop\n",
       "..                                  ...         ...\n",
       "95         2750/SeaLake\\SeaLake_914.jpg     SeaLake\n",
       "96        2750/SeaLake\\SeaLake_2065.jpg     SeaLake\n",
       "97        2750/SeaLake\\SeaLake_2599.jpg     SeaLake\n",
       "98        2750/SeaLake\\SeaLake_1104.jpg     SeaLake\n",
       "99         2750/SeaLake\\SeaLake_242.jpg     SeaLake\n",
       "\n",
       "[100 rows x 2 columns]"
      ]
     },
     "execution_count": 4,
     "metadata": {},
     "output_type": "execute_result"
    }
   ],
   "source": [
    "few_shot_data = sample_few_shot_data(DATASET_PATH, classes, num_samples=10)\n",
    "\n",
    "few_shot_df = pd.DataFrame(few_shot_data, columns=[\"Image Path\", \"Class\"])\n",
    "few_shot_df"
   ]
  },
  {
   "cell_type": "code",
   "execution_count": 5,
   "metadata": {},
   "outputs": [
    {
     "data": {
      "image/png": "[encoded data removed]",
      "text/plain": [
       "<Figure size 1000x500 with 1 Axes>"
      ]
     },
     "metadata": {},
     "output_type": "display_data"
    }
   ],
   "source": [
    "class_counts = few_shot_df[\"Class\"].value_counts().reset_index()\n",
    "class_counts.columns = [\"Class\", \"Image Count\"]\n",
    "\n",
    "plt.figure(figsize=(10, 5))\n",
    "sns.barplot(x=\"Class\", y=\"Image Count\", data=class_counts)\n",
    "plt.xticks(rotation=45)\n",
    "plt.title(\"Class Distribution in Few-Shot Learning Dataset\")\n",
    "plt.show()"
   ]
  },
  {
   "cell_type": "markdown",
   "metadata": {},
   "source": [
    "## 2 - Prepare CLIP for Few-Shot Learning (Linear Probing)\n",
    "\n",
    "### Freezing CLIP's Backbone and Training a Linear Classifier\n",
    "Few-shot learning involves **fine-tuning** a model on a small labeled dataset. Instead of retraining the entire CLIP model (which would require a large dataset and significant computational power), we use **linear probing**:\n",
    "\n",
    "- CLIP's image encoder remains frozen, meaning its deep feature extraction layers are unchanged.\n",
    "- We add a trainable linear classifier on top of CLIP’s feature representations.\n",
    "- The classifier maps CLIP's feature vectors to the 10 EuroSAT classes.\n",
    "\n",
    "This approach allows us to train efficiently with minimal labeled data while leveraging CLIP’s robust feature extraction capabilities.\n"
   ]
  },
  {
   "cell_type": "code",
   "execution_count": 6,
   "metadata": {},
   "outputs": [
    {
     "name": "stdout",
     "output_type": "stream",
     "text": [
      "CLIP model loaded and backbone frozen.\n"
     ]
    }
   ],
   "source": [
    "clip_model = CLIPModel.from_pretrained(\"openai/clip-vit-base-patch32\")\n",
    "clip_processor = CLIPProcessor.from_pretrained(\"openai/clip-vit-base-patch32\")\n",
    "\n",
    "device = \"cuda\" if torch.cuda.is_available() else \"cpu\"\n",
    "clip_model.to(device)\n",
    "\n",
    "for param in clip_model.parameters():\n",
    "    param.requires_grad = False\n",
    "\n",
    "print(\"CLIP model loaded and backbone frozen.\")"
   ]
  },
  {
   "cell_type": "markdown",
   "metadata": {},
   "source": [
    "Freezing CLIP's parameters ensures that we do not retrain the entire model, only the classifier.\n",
    "\n",
    "This avoids overfitting and reduces computational cost, making few-shot learning more practical.\n"
   ]
  },
  {
   "cell_type": "code",
   "execution_count": 7,
   "metadata": {},
   "outputs": [],
   "source": [
    "def extract_image_features(image_paths, model, processor, device):\n",
    "    \"\"\"\n",
    "    Extract CLIP image embeddings for a given set of images.\n",
    "    \n",
    "    Parameters:\n",
    "        image_paths (list): List of image file paths.\n",
    "        model (CLIPModel): Pre-trained CLIP model.\n",
    "        processor (CLIPProcessor): CLIP processor for image preprocessing.\n",
    "        device (str): Device to run inference on (\"cuda\" or \"cpu\").\n",
    "    \n",
    "    Returns:\n",
    "        torch.Tensor: Extracted image feature vectors.\n",
    "    \"\"\"\n",
    "    images = [Image.open(img_path).convert(\"RGB\") for img_path in image_paths]\n",
    "    inputs = processor(images=images, return_tensors=\"pt\", padding=True).to(device)\n",
    "    \n",
    "    with torch.no_grad():\n",
    "        image_features = model.get_image_features(**inputs)\n",
    "    \n",
    "    return image_features.cpu()"
   ]
  },
  {
   "cell_type": "code",
   "execution_count": 8,
   "metadata": {},
   "outputs": [
    {
     "name": "stdout",
     "output_type": "stream",
     "text": [
      "Extracted image features shape: torch.Size([100, 512])\n"
     ]
    }
   ],
   "source": [
    "image_features = extract_image_features(few_shot_df[\"Image Path\"].tolist(), clip_model, clip_processor, device)\n",
    "print(\"Extracted image features shape:\", image_features.shape)"
   ]
  },
  {
   "cell_type": "markdown",
   "metadata": {},
   "source": [
    "This avoids redundant computation, making training more efficient.\n",
    "\n",
    "Instead of reprocessing images at every training step, we store precomputed features.\n"
   ]
  },
  {
   "cell_type": "code",
   "execution_count": 9,
   "metadata": {},
   "outputs": [],
   "source": [
    "class LinearClassifier(nn.Module):\n",
    "    def __init__(self, input_dim, num_classes):\n",
    "        super(LinearClassifier, self).__init__()\n",
    "        self.fc = nn.Linear(input_dim, num_classes)\n",
    "    \n",
    "    def forward(self, x):\n",
    "        return self.fc(x)\n"
   ]
  },
  {
   "cell_type": "code",
   "execution_count": 10,
   "metadata": {},
   "outputs": [
    {
     "name": "stdout",
     "output_type": "stream",
     "text": [
      "Linear classifier initialized.\n"
     ]
    }
   ],
   "source": [
    "classifier = LinearClassifier(input_dim=image_features.shape[1], num_classes=len(classes)).to(device)\n",
    "print(\"Linear classifier initialized.\")"
   ]
  },
  {
   "cell_type": "markdown",
   "metadata": {},
   "source": [
    "CLIP's features are already highly semantic, so a simple linear model can often perform well.\n",
    "\n",
    "This is a common approach for few-shot learning and transfer learning tasks."
   ]
  },
  {
   "cell_type": "markdown",
   "metadata": {},
   "source": [
    "## 3 - Train the Few-Shot Model\n",
    "\n",
    "### Training Strategy\n",
    "To train the classifier, we will:\n",
    "- Use cross-entropy loss, which is standard for classification tasks.\n",
    "- Use the Adam optimizer, which is effective for training small neural networks.\n",
    "- Track training loss and accuracy per epoch to monitor performance."
   ]
  },
  {
   "cell_type": "code",
   "execution_count": 11,
   "metadata": {},
   "outputs": [],
   "source": [
    "criterion = nn.CrossEntropyLoss()\n",
    "optimizer = optim.Adam(classifier.parameters(), lr=0.001)"
   ]
  },
  {
   "cell_type": "code",
   "execution_count": 12,
   "metadata": {},
   "outputs": [],
   "source": [
    "def get_class_indices(class_list, class_names):\n",
    "    \"\"\" Convert class names to numerical labels. \"\"\"\n",
    "    return torch.tensor([class_names.index(cls) for cls in class_list], dtype=torch.long)"
   ]
  },
  {
   "cell_type": "code",
   "execution_count": null,
   "metadata": {},
   "outputs": [],
   "source": [
    "labels = get_class_indices(few_shot_df[\"Class\"].tolist(), classes)\n",
    "image_features = image_features.to(device)\n",
    "labels = labels.to(device)"
   ]
  },
  {
   "cell_type": "code",
   "execution_count": 14,
   "metadata": {},
   "outputs": [
    {
     "name": "stdout",
     "output_type": "stream",
     "text": [
      "Epoch [1/1000], Training Loss: 2.3336\n",
      "Epoch [101/1000], Training Loss: 0.4568\n",
      "Epoch [201/1000], Training Loss: 0.1839\n",
      "Epoch [301/1000], Training Loss: 0.0998\n",
      "Epoch [401/1000], Training Loss: 0.0637\n",
      "Epoch [501/1000], Training Loss: 0.0448\n",
      "Epoch [601/1000], Training Loss: 0.0334\n",
      "Epoch [701/1000], Training Loss: 0.0261\n",
      "Epoch [801/1000], Training Loss: 0.0210\n",
      "Epoch [901/1000], Training Loss: 0.0173\n"
     ]
    }
   ],
   "source": [
    "num_epochs = 1000\n",
    "losses = []\n",
    "for epoch in range(num_epochs):\n",
    "    classifier.train()\n",
    "    optimizer.zero_grad()\n",
    "    \n",
    "    outputs = classifier(image_features)\n",
    "    loss = criterion(outputs, labels)\n",
    "    loss.backward()\n",
    "    optimizer.step()\n",
    "    \n",
    "    losses.append(loss.item())\n",
    "    \n",
    "    if epoch % 100 == 0:\n",
    "        print(f\"Epoch [{epoch+1}/{num_epochs}], Training Loss: {loss.item():.4f}\")"
   ]
  },
  {
   "cell_type": "code",
   "execution_count": 15,
   "metadata": {},
   "outputs": [
    {
     "data": {
      "image/png": "[encoded data removed]",
      "text/plain": [
       "<Figure size 800x500 with 1 Axes>"
      ]
     },
     "metadata": {},
     "output_type": "display_data"
    }
   ],
   "source": [
    "plt.figure(figsize=(8,5))\n",
    "plt.plot(losses, label=\"Training Loss\")\n",
    "plt.xlabel(\"Epoch\")\n",
    "plt.ylabel(\"Loss\")\n",
    "plt.title(\"Loss Curve During Training\")\n",
    "plt.legend()\n",
    "plt.show()"
   ]
  },
  {
   "cell_type": "code",
   "execution_count": 22,
   "metadata": {},
   "outputs": [],
   "source": [
    "validation_data = sample_few_shot_data(DATASET_PATH, classes, num_samples=50)\n",
    "validation_df = pd.DataFrame(validation_data, columns=[\"Image Path\", \"Class\"])\n",
    "validation_features = extract_image_features(validation_df[\"Image Path\"].tolist(), clip_model, clip_processor, device)\n",
    "validation_labels = get_class_indices(validation_df[\"Class\"].tolist(), classes).to(device)\n",
    "\n",
    "validation_features = validation_features.to(device)"
   ]
  },
  {
   "cell_type": "code",
   "execution_count": 23,
   "metadata": {},
   "outputs": [
    {
     "name": "stdout",
     "output_type": "stream",
     "text": [
      "Validation Accuracy: 84.60%\n"
     ]
    }
   ],
   "source": [
    "classifier.eval()\n",
    "with torch.no_grad():\n",
    "    val_outputs = classifier(validation_features)\n",
    "    predictions = torch.argmax(val_outputs, dim=1)\n",
    "    accuracy = (predictions == validation_labels).float().mean().item()\n",
    "\n",
    "print(f\"Validation Accuracy: {accuracy * 100:.2f}%\")"
   ]
  },
  {
   "cell_type": "code",
   "execution_count": null,
   "metadata": {},
   "outputs": [],
   "source": []
  }
 ],
 "metadata": {
  "kernelspec": {
   "display_name": "Python 3",
   "language": "python",
   "name": "python3"
  },
  "language_info": {
   "codemirror_mode": {
    "name": "ipython",
    "version": 3
   },
   "file_extension": ".py",
   "mimetype": "text/x-python",
   "name": "python",
   "nbconvert_exporter": "python",
   "pygments_lexer": "ipython3",
   "version": "3.10.11"
  }
 },
 "nbformat": 4,
 "nbformat_minor": 2
}
