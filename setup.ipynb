{
 "cells": [
  {
   "cell_type": "code",
   "execution_count": null,
   "metadata": {},
   "outputs": [],
   "source": [
    "import os\n",
    "import random\n",
    "import pandas as pd\n",
    "\n",
    "# Define paths\n",
    "DATASET_PATH = \"./2750\"\n",
    "FEW_SHOT_PATH = \"./few_shot_data\"  # Where we save the sampled sets\n",
    "VAL_PATH = \"./validation_data\"  # Where we save the sampled sets\n",
    "\n",
    "# Ensure output directory exists\n",
    "os.makedirs(FEW_SHOT_PATH, exist_ok=True)\n",
    "os.makedirs(VAL_PATH, exist_ok=True)\n",
    "\n",
    "# Define number of validation samples per class\n",
    "VAL_SAMPLES = 50\n",
    "FEW_SHOT_SIZES = [1, 2, 4, 8, 16]\n",
    "\n",
    "# Load all images\n",
    "all_images = {cls: [os.path.join(DATASET_PATH, cls, img) \n",
    "                    for img in os.listdir(os.path.join(DATASET_PATH, cls))] \n",
    "              for cls in os.listdir(DATASET_PATH) if os.path.isdir(os.path.join(DATASET_PATH, cls))}\n",
    "\n",
    "# Sample validation set\n",
    "validation_set = {}\n",
    "for cls, images in all_images.items():\n",
    "    validation_set[cls] = random.sample(images, VAL_SAMPLES)\n",
    "    all_images[cls] = list(set(images) - set(validation_set[cls]))  # Remove validation images\n",
    "\n",
    "# Save validation set\n",
    "val_df = pd.DataFrame([(img, cls) for cls, imgs in validation_set.items() for img in imgs], columns=[\"Image Path\", \"Class\"])\n",
    "val_df.to_csv(os.path.join(VAL_PATH, \"validation_set.csv\"), index=False)\n",
    "\n",
    "# Create few-shot datasets\n",
    "for num_samples in FEW_SHOT_SIZES:\n",
    "    few_shot_data = []\n",
    "    for cls, images in all_images.items():\n",
    "        few_shot_data.extend([(img, cls) for img in random.sample(images, num_samples)])\n",
    "\n",
    "    few_shot_df = pd.DataFrame(few_shot_data, columns=[\"Image Path\", \"Class\"])\n",
    "    few_shot_df.to_csv(os.path.join(FEW_SHOT_PATH, f\"few_shot_{num_samples}.csv\"), index=False)\n",
    "\n",
    "print(\"Few-shot datasets and validation set successfully created!\")\n"
   ]
  }
 ],
 "metadata": {
  "language_info": {
   "name": "python"
  }
 },
 "nbformat": 4,
 "nbformat_minor": 2
}
