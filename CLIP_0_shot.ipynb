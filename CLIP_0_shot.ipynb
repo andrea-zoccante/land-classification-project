{
 "cells": [
  {
   "cell_type": "code",
   "execution_count": 22,
   "metadata": {},
   "outputs": [],
   "source": [
    "from transformers import CLIPProcessor, CLIPModel\n",
    "from datasets import load_dataset\n",
    "from PIL import Image\n",
    "import numpy as np\n",
    "import matplotlib.pyplot as plt\n",
    "import seaborn as sns\n",
    "from sklearn.metrics import confusion_matrix, accuracy_score\n",
    "import torch\n",
    "from torch.utils.data import DataLoader, Dataset\n",
    "from tqdm import tqdm\n"
   ]
  },
  {
   "cell_type": "markdown",
   "metadata": {},
   "source": [
    "### Testing Zero-Shot on the SeaLake class"
   ]
  },
  {
   "cell_type": "code",
   "execution_count": 34,
   "metadata": {},
   "outputs": [
    {
     "name": "stdout",
     "output_type": "stream",
     "text": [
      "\n",
      "Overall Accuracy: 54.70%\n"
     ]
    }
   ],
   "source": [
    "# Load CLIP model and processor\n",
    "model = CLIPModel.from_pretrained(\"openai/clip-vit-base-patch32\")\n",
    "processor = CLIPProcessor.from_pretrained(\"openai/clip-vit-base-patch32\")\n",
    "\n",
    "# Define class names (categories for classification)\n",
    "class_names = [\"AnnualCrop\", \"Forest\", \"Herbaceous Vegetation\", \"Highway\", \"Industrial\",\n",
    "               \"Pasture\", \"PermanentCrop\", \"Residential\", \"River\", \"SeaLake\"]\n",
    "\n",
    "# Convert class names into CLIP-compatible text prompts\n",
    "text_inputs = [f\"satellite image of {c.lower()}\" for c in class_names]\n",
    "\n",
    "all_preds = []\n",
    "all_labels = [9 for _ in range(3000)]\n",
    "all_probs = np.zeros((10))\n",
    "\n",
    "# Run inference on batches\n",
    "for i in tqdm(range(100), desc=\"Processing Batches\"):\n",
    "    images = [Image.open(f\"./2750/SeaLake/SeaLake_{1 + id + 30*i}.jpg\") for id in range(30)]\n",
    "    inputs = processor(text=class_names, images=images, return_tensors=\"pt\", padding=True)\n",
    "\n",
    "    outputs = model(**inputs)\n",
    "    logits_per_image = outputs.logits_per_image  # this is the image-text similarity score\n",
    "    probs = logits_per_image.softmax(dim=1)  # we can take the softmax to get the label probabilities\n",
    "    predictions = probs.argmax(dim=1).tolist()\n",
    "\n",
    "    all_preds.extend(predictions)\n",
    "\n",
    "accuracy = accuracy_score(all_labels, all_preds)\n",
    "print(f\"Overall Accuracy: {accuracy * 100:.2f}%\")\n"
   ]
  },
  {
   "cell_type": "code",
   "execution_count": null,
   "metadata": {},
   "outputs": [],
   "source": []
  }
 ],
 "metadata": {
  "kernelspec": {
   "display_name": "EuroSAT",
   "language": "python",
   "name": "python3"
  },
  "language_info": {
   "codemirror_mode": {
    "name": "ipython",
    "version": 3
   },
   "file_extension": ".py",
   "mimetype": "text/x-python",
   "name": "python",
   "nbconvert_exporter": "python",
   "pygments_lexer": "ipython3",
   "version": "3.11.11"
  }
 },
 "nbformat": 4,
 "nbformat_minor": 2
}
