{
 "cells": [
  {
   "cell_type": "code",
   "execution_count": 11,
   "metadata": {},
   "outputs": [],
   "source": [
    "# libraries\n",
    "\n",
    "import os\n",
    "import numpy as np\n",
    "import pandas as pd\n",
    "import matplotlib.pyplot as plt\n",
    "from PIL import Image\n",
    "from glob import glob\n",
    "\n",
    "import torch\n",
    "import torch.nn as nn\n",
    "import torch.optim as optim\n",
    "from transformers import CLIPProcessor, CLIPModel, AutoTokenizer\n",
    "\n",
    "from sklearn.metrics import confusion_matrix, accuracy_score, classification_report\n",
    "\n",
    "import seaborn as sns\n",
    "\n",
    "from tqdm import tqdm\n",
    "import random\n",
    "\n",
    "import torch\n",
    "import torch.nn as nn\n",
    "import clip\n",
    "\n",
    "import config\n"
   ]
  },
  {
   "cell_type": "markdown",
   "metadata": {},
   "source": [
    "## 1 - Dataset and Selection of a Small Subset for Few-Shot Learning\n",
    "\n",
    "### Selecting a Small Subset\n",
    "For fine-tuning, we will use a small, balanced subset of the EuroSAT dataset. Instead of using the full dataset, we will randomly sample 10 images per class to simulate a **few-shot learning** scenario. The goal is to test whether training on a small number of images can improve classification performance.\n",
    "\n"
   ]
  },
  {
   "cell_type": "code",
   "execution_count": 14,
   "metadata": {},
   "outputs": [
    {
     "name": "stdout",
     "output_type": "stream",
     "text": [
      "Classes found:  ['AnnualCrop', 'Forest', 'HerbaceousVegetation', 'Highway', 'Industrial', 'Pasture', 'PermanentCrop', 'Residential', 'River', 'SeaLake']\n",
      "Modified classes:  ['Annual Crop', 'Forest', 'Herbaceous Vegetation', 'Highway', 'Industrial', 'Pasture', 'Permanent Crop', 'Residential', 'River', 'Sea or Lake']\n"
     ]
    }
   ],
   "source": [
    "classes = config.CLASSES\n",
    "print(\"Classes found: \", classes)\n",
    "\n",
    "modified_classes = [config.CLASSNAME_DICT[c] for c in classes]\n",
    "print(\"Modified classes: \", modified_classes)\n"
   ]
  },
  {
   "cell_type": "code",
   "execution_count": 15,
   "metadata": {},
   "outputs": [],
   "source": [
    "def get_class_indices(class_list, class_names):\n",
    "    \"\"\" Convert class names to numerical labels. \"\"\"\n",
    "    return torch.tensor([class_names.index(cls) for cls in class_list], dtype=torch.long)"
   ]
  },
  {
   "cell_type": "code",
   "execution_count": 16,
   "metadata": {},
   "outputs": [
    {
     "name": "stdout",
     "output_type": "stream",
     "text": [
      "Device:  mps\n"
     ]
    }
   ],
   "source": [
    "device = (\n",
    "    torch.device(\"mps\") if torch.backends.mps.is_available() else\n",
    "    torch.device(\"cuda\") if torch.cuda.is_available() else\n",
    "    torch.device(\"cpu\")\n",
    ")\n",
    "print(\"Device: \", device)"
   ]
  },
  {
   "cell_type": "code",
   "execution_count": 17,
   "metadata": {},
   "outputs": [
    {
     "name": "stdout",
     "output_type": "stream",
     "text": [
      "CLIP model loaded and backbone frozen.\n"
     ]
    }
   ],
   "source": [
    "clip_model = CLIPModel.from_pretrained(\"openai/clip-vit-base-patch32\")\n",
    "clip_processor = CLIPProcessor.from_pretrained(\"openai/clip-vit-base-patch32\")\n",
    "tokenizer = AutoTokenizer.from_pretrained(\"openai/clip-vit-base-patch32\")\n",
    "\n",
    "clip_model.to(device)\n",
    "\n",
    "for param in clip_model.parameters():\n",
    "    param.requires_grad = False\n",
    "\n",
    "print(\"CLIP model loaded and backbone frozen.\")"
   ]
  },
  {
   "cell_type": "code",
   "execution_count": 18,
   "metadata": {},
   "outputs": [],
   "source": [
    "class TextEncoder(nn.Module):\n",
    "    def __init__(self, clip_model):\n",
    "        super().__init__()\n",
    "        self.transformer = clip_model.text_model\n",
    "        self.encoder = clip_model.text_model.encoder\n",
    "        self.positional_embedding = clip_model.text_model.embeddings.position_embedding\n",
    "        self.ln_final = clip_model.text_model.final_layer_norm\n",
    "        self.text_projection = clip_model.text_projection\n",
    "        self.dtype = clip_model.dtype\n",
    "\n",
    "    def forward(self, prompts):\n",
    "        seq_length = prompts.size(1)  # Sequence length (number of tokens)\n",
    "        positions = torch.arange(seq_length, device=prompts.device).unsqueeze(0)  # Shape [1, seq_length]\n",
    "        \n",
    "        # Get the positional embeddings for each position\n",
    "        pos_embeddings = self.positional_embedding(positions)  # Shape [1, seq_length, embedding_dim]\n",
    "        \n",
    "        x = prompts + pos_embeddings\n",
    "        x = x.reshape(x.size(0), x.size(1), -1)  # NLD -> LND\n",
    "        encoder_outputs = self.encoder(x)\n",
    "\n",
    "        last_hidden_state = encoder_outputs[0]\n",
    "        pooled_output = last_hidden_state[:, 0, :]\n",
    "        pooled_output = self.ln_final(pooled_output)\n",
    "\n",
    "        text_features = self.text_projection(pooled_output)\n",
    "\n",
    "        return text_features\n"
   ]
  },
  {
   "cell_type": "code",
   "execution_count": 19,
   "metadata": {},
   "outputs": [],
   "source": [
    "class SimplePromptLearner(nn.Module):\n",
    "    def __init__(self, clip_model, classnames, n_ctx=8, ctx_init=None):\n",
    "        super().__init__()\n",
    "\n",
    "        self.n_cls = len(classnames)\n",
    "        self.n_ctx = n_ctx\n",
    "        self.ctx_dim = clip_model.text_model.final_layer_norm.weight.shape[0]\n",
    "        dtype = clip_model.dtype\n",
    "\n",
    "        # Initialize context vectors\n",
    "        if ctx_init:\n",
    "            # Initialize with provided context string\n",
    "            ctx_init = ctx_init.replace(\"_\", \" \")\n",
    "            n_ctx = len(ctx_init.split(\" \"))\n",
    "            prompt = clip.tokenize(ctx_init)\n",
    "            with torch.no_grad():\n",
    "                embedding = clip_model.token_embedding(prompt).type(dtype)\n",
    "            ctx_vectors = embedding[0, 1 : 1 + n_ctx, :]\n",
    "            prompt_prefix = ctx_init\n",
    "        else:\n",
    "            print(\"Initializing class-specific contexts\")\n",
    "            ctx_vectors = torch.empty(self.n_cls, n_ctx, self.ctx_dim, dtype=dtype).to(device)\n",
    "            nn.init.normal_(ctx_vectors, std=0.02)\n",
    "            prompt_prefix = \" \".join([\"X\"] * n_ctx)\n",
    "\n",
    "        print(f'Initial context: \"{prompt_prefix}\"')\n",
    "        print(f\"Number of context words (tokens): {n_ctx}\")\n",
    "\n",
    "        self.ctx = nn.Parameter(ctx_vectors, requires_grad=True).to(device)  # to be optimized\n",
    "\n",
    "        # Prepare the prompts\n",
    "        classnames = [name.replace(\"_\", \" \") for name in classnames]\n",
    "        prompts = [prompt_prefix + \" \" + name + \".\" for name in classnames]\n",
    "\n",
    "        # Tokenize and get embeddings for class names\n",
    "        tokenized_prompts = tokenizer(prompts, padding=True, return_tensors=\"pt\", truncation=True, max_length=77).to(device)\n",
    "        \n",
    "        with torch.no_grad():\n",
    "            input_ids = tokenized_prompts[\"input_ids\"]\n",
    "            embedding = clip_model.text_model.embeddings.token_embedding(input_ids).type(dtype)\n",
    "\n",
    "        # Store prefix and suffix\n",
    "        self.register_buffer(\"token_prefix\", embedding[:, :1, :])  # Start of sequence token\n",
    "        self.register_buffer(\"token_suffix\", embedding[:, 1+n_ctx:, :])  # Class names and rest\n",
    "\n",
    "        self.tokenized_prompts = tokenized_prompts\n",
    "\n",
    "    def forward(self):\n",
    "        # The context vectors\n",
    "        ctx = self.ctx\n",
    "\n",
    "        # Concatenate the prefix, context, and suffix\n",
    "        prompts = torch.cat([self.token_prefix, ctx, self.token_suffix], dim=1)\n",
    "\n",
    "        return prompts\n",
    "\n"
   ]
  },
  {
   "cell_type": "code",
   "execution_count": 20,
   "metadata": {},
   "outputs": [
    {
     "data": {
      "text/plain": [
       "8"
      ]
     },
     "execution_count": 20,
     "metadata": {},
     "output_type": "execute_result"
    }
   ],
   "source": [
    "import gc\n",
    "torch.cuda.empty_cache()\n",
    "gc.collect()\n"
   ]
  },
  {
   "cell_type": "code",
   "execution_count": 25,
   "metadata": {},
   "outputs": [],
   "source": [
    "validation_df = pd.read_csv(\"validation_data/validation_set.csv\")\n",
    "\n",
    "validation_labels = get_class_indices(validation_df[\"Class\"].tolist(), classes).to(device)\n",
    "\n",
    "validation_images = [Image.open(img_path).convert(\"RGB\") for img_path in validation_df[\"Image Path\"].tolist()]\n",
    "validation_inputs = clip_processor(images=validation_images, return_tensors=\"pt\", padding=True).to(device)"
   ]
  },
  {
   "cell_type": "code",
   "execution_count": 27,
   "metadata": {},
   "outputs": [
    {
     "name": "stdout",
     "output_type": "stream",
     "text": [
      "Initializing class-specific contexts\n",
      "Initial context: \"X X X X X X X X X X X X X X X X\"\n",
      "Number of context words (tokens): 16\n",
      "1-shot Epoch [0/500]:\n",
      "\tTraining Loss: 3.8234\n",
      "\tValidation Loss: 4.2250\n",
      "\tValidation Accuracy: 12.80%\n",
      "\n",
      "1-shot Epoch [100/500]:\n",
      "\tTraining Loss: 0.0003\n",
      "\tValidation Loss: 1.6599\n",
      "\tValidation Accuracy: 53.20%\n",
      "\n",
      "1-shot Epoch [200/500]:\n",
      "\tTraining Loss: 0.0002\n",
      "\tValidation Loss: 1.6436\n",
      "\tValidation Accuracy: 54.20%\n",
      "\n",
      "1-shot Epoch [300/500]:\n",
      "\tTraining Loss: 0.0001\n",
      "\tValidation Loss: 1.6380\n",
      "\tValidation Accuracy: 54.40%\n",
      "\n",
      "1-shot Epoch [400/500]:\n",
      "\tTraining Loss: 0.0001\n",
      "\tValidation Loss: 1.6376\n",
      "\tValidation Accuracy: 54.20%\n",
      "\n",
      "1-shot Epoch [500/500]:\n",
      "\tTraining Loss: 0.0001\n",
      "\tValidation Loss: 1.6400\n",
      "\tValidation Accuracy: 54.60%\n",
      "\n",
      "Initializing class-specific contexts\n",
      "Initial context: \"X X X X X X X X X X X X X X X X\"\n",
      "Number of context words (tokens): 16\n",
      "2-shot Epoch [0/500]:\n",
      "\tTraining Loss: 3.6086\n",
      "\tValidation Loss: 3.7289\n",
      "\tValidation Accuracy: 20.00%\n",
      "\n",
      "2-shot Epoch [100/500]:\n",
      "\tTraining Loss: 0.0018\n",
      "\tValidation Loss: 1.1963\n",
      "\tValidation Accuracy: 70.80%\n",
      "\n",
      "2-shot Epoch [200/500]:\n",
      "\tTraining Loss: 0.0007\n",
      "\tValidation Loss: 1.2152\n",
      "\tValidation Accuracy: 70.20%\n",
      "\n",
      "2-shot Epoch [300/500]:\n",
      "\tTraining Loss: 0.0005\n",
      "\tValidation Loss: 1.2318\n",
      "\tValidation Accuracy: 70.40%\n",
      "\n",
      "2-shot Epoch [400/500]:\n",
      "\tTraining Loss: 0.0003\n",
      "\tValidation Loss: 1.2466\n",
      "\tValidation Accuracy: 70.00%\n",
      "\n",
      "2-shot Epoch [500/500]:\n",
      "\tTraining Loss: 0.0002\n",
      "\tValidation Loss: 1.2581\n",
      "\tValidation Accuracy: 69.80%\n",
      "\n",
      "Initializing class-specific contexts\n",
      "Initial context: \"X X X X X X X X X X X X X X X X\"\n",
      "Number of context words (tokens): 16\n",
      "4-shot Epoch [0/500]:\n",
      "\tTraining Loss: 3.4366\n",
      "\tValidation Loss: 4.7171\n",
      "\tValidation Accuracy: 22.40%\n",
      "\n",
      "4-shot Epoch [100/500]:\n",
      "\tTraining Loss: 0.0041\n",
      "\tValidation Loss: 0.9101\n",
      "\tValidation Accuracy: 76.20%\n",
      "\n"
     ]
    }
   ],
   "source": [
    "num_epochs=500\n",
    "\n",
    "losses = {}\n",
    "validation_losses = {}\n",
    "validation_accuracies = {}\n",
    "\n",
    "for few_shot in [1,2,4,8,16]:\n",
    "    few_shot_df = pd.read_csv(f\"few_shot_data/few_shot_{few_shot}.csv\")\n",
    "    few_shot_images = [Image.open(img_path).convert(\"RGB\") for img_path in few_shot_df[\"Image Path\"].tolist()]\n",
    "    inputs = clip_processor(images=few_shot_images, return_tensors=\"pt\", padding=True).to(device)\n",
    "\n",
    "    labels = get_class_indices(few_shot_df[\"Class\"].tolist(), classes)\n",
    "    labels = labels.to(device)\n",
    "\n",
    "    prompt_learner = SimplePromptLearner(clip_model, modified_classes, n_ctx=16, ctx_init=None).to(device)\n",
    "    text_encoder = TextEncoder(clip_model=clip_model).to(device)\n",
    "\n",
    "    optimizer = optim.Adam(prompt_learner.parameters(), lr=0.01)\n",
    "\n",
    "    criterion = nn.CrossEntropyLoss()\n",
    "\n",
    "    losses[few_shot] = []\n",
    "    validation_losses[few_shot] = []\n",
    "    validation_accuracies[few_shot] = []\n",
    "\n",
    "\n",
    "    for epoch in range(num_epochs+1):\n",
    "        optimizer.zero_grad()\n",
    "        \n",
    "        prompts = prompt_learner()\n",
    "        \n",
    "        # Get updated text features using learned prompts, and image features\n",
    "        text_features = text_encoder(prompts)\n",
    "        image_features = clip_model.get_image_features(**inputs)\n",
    "\n",
    "        # Normalize features\n",
    "        text_features = text_features / text_features.norm(dim=-1, keepdim=True)\n",
    "        image_features = image_features / image_features.norm(dim=-1, keepdim=True)\n",
    "\n",
    "        # Compute cosine similarity\n",
    "        logit_scale = clip_model.logit_scale.exp()\n",
    "        logits = image_features @ text_features.T\n",
    "        logits *= logit_scale\n",
    "        \n",
    "        loss = criterion(logits, labels)\n",
    "\n",
    "        loss.backward()\n",
    "        optimizer.step()\n",
    "\n",
    "        losses[few_shot].append(loss.item())\n",
    "\n",
    "        if epoch % 50 == 0:\n",
    "            with torch.no_grad():\n",
    "                prompts = prompt_learner()\n",
    "\n",
    "                text_features = text_encoder(prompts)\n",
    "                image_features = clip_model.get_image_features(**validation_inputs)\n",
    "\n",
    "                # Normalize features\n",
    "                text_features = text_features / text_features.norm(dim=-1, keepdim=True)\n",
    "                image_features = image_features / image_features.norm(dim=-1, keepdim=True)\n",
    "\n",
    "                # Compute cosine similarity\n",
    "                logit_scale = clip_model.logit_scale.exp()\n",
    "                val_logits = image_features @ text_features.T\n",
    "                val_logits *= logit_scale\n",
    "\n",
    "                val_loss = criterion(val_logits, validation_labels)\n",
    "                \n",
    "                predictions = torch.argmax(val_logits, dim=1)\n",
    "            \n",
    "            accuracy = (predictions == validation_labels).float().mean().item()\n",
    "            \n",
    "            validation_accuracies[few_shot].append(accuracy)\n",
    "            validation_losses[few_shot].append((epoch, val_loss.item()))\n",
    "            \n",
    "            if epoch % 100 == 0:    \n",
    "                print(f\"{few_shot}-shot Epoch [{epoch}/{num_epochs}]:\") \n",
    "                print(f\"\\tTraining Loss: {loss.item():.4f}\")\n",
    "                print(f\"\\tValidation Loss: {val_loss.item():.4f}\")\n",
    "                print(f\"\\tValidation Accuracy: {accuracy * 100:.2f}%\\n\")"
   ]
  },
  {
   "cell_type": "code",
   "execution_count": 597,
   "metadata": {},
   "outputs": [
    {
     "data": {
      "image/png": "[encoded data removed]",
      "text/plain": [
       "<Figure size 800x500 with 1 Axes>"
      ]
     },
     "metadata": {},
     "output_type": "display_data"
    }
   ],
   "source": [
    "plt.figure(figsize=(8, 5))\n",
    "# Extract epochs and losses for validation\n",
    "epochs, val_losses = zip(*validation_losses)\n",
    "plt.plot(epochs, val_losses, label=\"Validation Loss\", marker='o')\n",
    "plt.plot(epochs, losses, label=\"Training Loss\", marker='o')\n",
    "\n",
    "plt.xlabel(\"Epoch\")\n",
    "plt.ylabel(\"Loss\")\n",
    "plt.title(\"Loss Curves During Training\")\n",
    "plt.legend()\n",
    "plt.show()\n"
   ]
  },
  {
   "cell_type": "code",
   "execution_count": 598,
   "metadata": {},
   "outputs": [
    {
     "data": {
      "image/png": "[encoded data removed]",
      "text/plain": [
       "<Figure size 800x500 with 1 Axes>"
      ]
     },
     "metadata": {},
     "output_type": "display_data"
    }
   ],
   "source": [
    "plt.figure(figsize=(8, 5))\n",
    "# Extract epochs and losses for validation\n",
    "epochs, val_losses = zip(*validation_losses)\n",
    "plt.plot(epochs, validation_accuracies, label=\"Validation Accuracy\", marker='o')\n",
    "\n",
    "plt.xlabel(\"Epoch\")\n",
    "plt.ylabel(\"Accuracy\")\n",
    "plt.title(\"Validation Accuracy During Training\")\n",
    "plt.legend()\n",
    "plt.show()\n"
   ]
  },
  {
   "cell_type": "code",
   "execution_count": null,
   "metadata": {},
   "outputs": [],
   "source": []
  }
 ],
 "metadata": {
  "kernelspec": {
   "display_name": "EuroSAT",
   "language": "python",
   "name": "python3"
  },
  "language_info": {
   "codemirror_mode": {
    "name": "ipython",
    "version": 3
   },
   "file_extension": ".py",
   "mimetype": "text/x-python",
   "name": "python",
   "nbconvert_exporter": "python",
   "pygments_lexer": "ipython3",
   "version": "3.11.11"
  }
 },
 "nbformat": 4,
 "nbformat_minor": 2
}
